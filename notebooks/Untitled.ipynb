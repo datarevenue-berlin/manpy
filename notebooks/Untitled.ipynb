{
 "cells": [
  {
   "cell_type": "markdown",
   "metadata": {},
   "source": [
    "## Notebook to test Python 3 ManPy "
   ]
  },
  {
   "cell_type": "code",
   "execution_count": 2,
   "metadata": {},
   "outputs": [
    {
     "data": {
      "text/plain": [
       "'0+untagged.6.g8400b93'"
      ]
     },
     "execution_count": 2,
     "metadata": {},
     "output_type": "execute_result"
    }
   ],
   "source": [
    "import manpy\n",
    "manpy.__version__"
   ]
  },
  {
   "cell_type": "markdown",
   "metadata": {},
   "source": [
    "## A single server model"
   ]
  },
  {
   "cell_type": "code",
   "execution_count": 3,
   "metadata": {},
   "outputs": [],
   "source": [
    "from manpy.simulation.imports import Source, Queue, Machine, Exit\n",
    "from manpy.simulation.Globals import runSimulation"
   ]
  },
  {
   "cell_type": "code",
   "execution_count": 18,
   "metadata": {},
   "outputs": [],
   "source": [
    "source = Source(\"S1\", \"Source\", interArrivalTime={\"Fixed\":{\"mean\":0.8}}, entity='manpy.Part')\n",
    "queue = Queue(\"Q1\",\"Queue\", capacity=3)\n",
    "machine = Machine(\"M1\",\"Machine\", processingTime={\"Fixed\":{\"mean\":0.25}})\n",
    "exit = Exit(\"E1\",\"Exit\")"
   ]
  },
  {
   "cell_type": "markdown",
   "metadata": {},
   "source": [
    "define predecessors and successors for the objects"
   ]
  },
  {
   "cell_type": "code",
   "execution_count": 19,
   "metadata": {},
   "outputs": [],
   "source": [
    "source.defineRouting(successorList=[queue])\n",
    "queue.defineRouting(predecessorList=[source],successorList=[machine])\n",
    "machine.defineRouting(predecessorList=[queue],successorList=[exit])\n",
    "exit.defineRouting(predecessorList=[machine])"
   ]
  },
  {
   "cell_type": "code",
   "execution_count": 20,
   "metadata": {},
   "outputs": [],
   "source": [
    "object_list = [source, queue, machine, exit]\n",
    "#set the length of the experiment\n",
    "max_simulation_time = 1440\n",
    "\n",
    "# call the runSimulation giving the objects and the length of the experiment\n",
    "runSimulation(object_list, max_simulation_time)\n",
    "\n",
    "# calculate metrics\n",
    "working_ratio = (machine.totalWorkingTime / max_simulation_time ) * 100\n"
   ]
  },
  {
   "cell_type": "code",
   "execution_count": 41,
   "metadata": {},
   "outputs": [
    {
     "name": "stdout",
     "output_type": "stream",
     "text": [
      "The sytem produced 1800 parts\n",
      "the working ratio of the Machine is  31.25 %\n"
     ]
    }
   ],
   "source": [
    "print(f\"The sytem produced {exit.numOfExits} parts\")\n",
    "print(f\"the working ratio of the Machine is {working_ratio: .2f} %\")\n"
   ]
  },
  {
   "cell_type": "markdown",
   "metadata": {},
   "source": [
    "\n",
    "**NOTE:**\n",
    "\n",
    "- ManPy time units are decimals. So 30 and 15 seconds have been translated to 0.5 and 0.25 minutes respectively.\n",
    "- The length of the simulation is set to 1440.0 (so it is minutes it corresponds to 24 hours)"
   ]
  },
  {
   "cell_type": "code",
   "execution_count": 42,
   "metadata": {},
   "outputs": [
    {
     "data": {
      "text/plain": [
       "24.0"
      ]
     },
     "execution_count": 42,
     "metadata": {},
     "output_type": "execute_result"
    }
   ],
   "source": [
    "1440/60"
   ]
  },
  {
   "cell_type": "markdown",
   "metadata": {},
   "source": [
    "----"
   ]
  },
  {
   "cell_type": "markdown",
   "metadata": {},
   "source": []
  },
  {
   "cell_type": "code",
   "execution_count": 1,
   "metadata": {},
   "outputs": [],
   "source": [
    "from manpy.simulation.imports import Queue, Machine, Exit, Part, ExcelHandler\n",
    "from manpy.simulation.Globals import runSimulation, G"
   ]
  },
  {
   "cell_type": "code",
   "execution_count": 3,
   "metadata": {},
   "outputs": [],
   "source": [
    "\n",
    "queue = Queue(\"Q1\",\"Queue\", capacity=1)\n",
    "\n",
    "machine = Machine(\"M1\",\"Machine\", processingTime={\"Fixed\":{\"mean\":0.25}})\n",
    "\n",
    "car = Part(\"P1\", \"Car\", currentStation=queue)\n",
    "\n",
    "exit = Exit(\"E1\",\"Exit\")"
   ]
  },
  {
   "cell_type": "code",
   "execution_count": 4,
   "metadata": {},
   "outputs": [],
   "source": [
    "queue.defineRouting(successorList=[machine])\n",
    "machine.defineRouting(predecessorList=[queue],successorList=[exit])\n",
    "exit.defineRouting(predecessorList=[machine])"
   ]
  },
  {
   "cell_type": "code",
   "execution_count": 5,
   "metadata": {},
   "outputs": [],
   "source": [
    "object_list = [queue, machine, exit, car]\n",
    "\n",
    "max_simulation_time = float(\"inf\")\n",
    "\n",
    "runSimulation(object_list, max_simulation_time, trace=\"Yes\")\n",
    "\n",
    "working_ratio = (machine.totalWorkingTime / G.maxSimTime ) * 100"
   ]
  },
  {
   "cell_type": "code",
   "execution_count": 6,
   "metadata": {},
   "outputs": [
    {
     "name": "stdout",
     "output_type": "stream",
     "text": [
      "the system produced 1 parts in 0.25 minutes\n",
      "the total working ratio of the Machine is 100.0 % None\n"
     ]
    }
   ],
   "source": [
    "print(\"the system produced\", exit.numOfExits, \"parts in\", exit.timeLastEntityLeft, \"minutes\") \n",
    "print(\"the total working ratio of the Machine is\", working_ratio, \"%\",  ExcelHandler.outputTrace('Wip1'))"
   ]
  },
  {
   "cell_type": "code",
   "execution_count": null,
   "metadata": {},
   "outputs": [],
   "source": []
  },
  {
   "cell_type": "code",
   "execution_count": null,
   "metadata": {},
   "outputs": [],
   "source": []
  }
 ],
 "metadata": {
  "kernelspec": {
   "display_name": "Python 3",
   "language": "python",
   "name": "python3"
  },
  "language_info": {
   "codemirror_mode": {
    "name": "ipython",
    "version": 3
   },
   "file_extension": ".py",
   "mimetype": "text/x-python",
   "name": "python",
   "nbconvert_exporter": "python",
   "pygments_lexer": "ipython3",
   "version": "3.7.7"
  }
 },
 "nbformat": 4,
 "nbformat_minor": 4
}
